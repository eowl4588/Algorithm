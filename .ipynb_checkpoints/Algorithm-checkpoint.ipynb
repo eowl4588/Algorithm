{
 "cells": [
  {
   "cell_type": "markdown",
   "id": "88156e79",
   "metadata": {},
   "source": [
    "# 클래스"
   ]
  },
  {
   "cell_type": "code",
   "execution_count": 137,
   "id": "e17a655d",
   "metadata": {},
   "outputs": [],
   "source": [
    "class CnBlue:\n",
    "    def sing(self):\n",
    "        return \"외톨이새끼\"\n",
    "    def dance(self):\n",
    "        return \"두둠치빠람빠라\"\n",
    "    def look(self):\n",
    "        return \"난 아뻐~~\""
   ]
  },
  {
   "cell_type": "code",
   "execution_count": 138,
   "id": "0d0f9184",
   "metadata": {},
   "outputs": [],
   "source": [
    "# CnBlue 클래스의 객체 Sm생성\n",
    "Sm = CnBlue()"
   ]
  },
  {
   "cell_type": "code",
   "execution_count": 139,
   "id": "05f0a378",
   "metadata": {},
   "outputs": [
    {
     "data": {
      "text/plain": [
       "'외톨이새끼'"
      ]
     },
     "execution_count": 139,
     "metadata": {},
     "output_type": "execute_result"
    }
   ],
   "source": [
    "# CnBlue의 매소드들 실행 가능\n",
    "Sm.sing()"
   ]
  },
  {
   "cell_type": "code",
   "execution_count": 140,
   "id": "be327e01",
   "metadata": {},
   "outputs": [],
   "source": [
    "# CnBlue를 상속한 BlackPink\n",
    "class BlackPink(CnBlue):\n",
    "    def top(self):\n",
    "        return \"bp in your area\""
   ]
  },
  {
   "cell_type": "code",
   "execution_count": 141,
   "id": "9205bc22",
   "metadata": {},
   "outputs": [
    {
     "data": {
      "text/plain": [
       "'난 아뻐~~'"
      ]
     },
     "execution_count": 141,
     "metadata": {},
     "output_type": "execute_result"
    }
   ],
   "source": [
    "Ss = BlackPink()\n",
    "\n",
    "Ss.look()"
   ]
  },
  {
   "cell_type": "code",
   "execution_count": 142,
   "id": "d1e5da49",
   "metadata": {},
   "outputs": [],
   "source": [
    "# __init__ : 처음 객체 생성시 값을 받아오는 매서드\n",
    "# __init__ 같이 특수 매서드들 존재\n",
    "class cal :\n",
    "    def __init__(self, arg1, arg2):\n",
    "        self.fir = arg1\n",
    "        self.sec = arg2\n",
    "    \n",
    "    def add(self):\n",
    "        result = self.fir + self.sec\n",
    "        return result\n",
    "    \n",
    "    def suv(self):\n",
    "        result = self.fir - self.sec\n",
    "        return result\n",
    "    def mul(self):\n",
    "        result = self.fir * self.sec\n",
    "        return result\n",
    "    def div(self):\n",
    "        result = self.fir / self.sec\n",
    "        return result"
   ]
  },
  {
   "cell_type": "code",
   "execution_count": 143,
   "id": "a91e64e4",
   "metadata": {},
   "outputs": [],
   "source": [
    "c = cal(1,2)"
   ]
  },
  {
   "cell_type": "code",
   "execution_count": 144,
   "id": "e2751b38",
   "metadata": {},
   "outputs": [
    {
     "data": {
      "text/plain": [
       "3"
      ]
     },
     "execution_count": 144,
     "metadata": {},
     "output_type": "execute_result"
    }
   ],
   "source": [
    "c.add()"
   ]
  },
  {
   "cell_type": "code",
   "execution_count": 145,
   "id": "2529e2f3",
   "metadata": {},
   "outputs": [
    {
     "data": {
      "text/plain": [
       "-1"
      ]
     },
     "execution_count": 145,
     "metadata": {},
     "output_type": "execute_result"
    }
   ],
   "source": [
    "c.suv()"
   ]
  },
  {
   "cell_type": "code",
   "execution_count": 146,
   "id": "65ace8c2",
   "metadata": {},
   "outputs": [
    {
     "data": {
      "text/plain": [
       "2"
      ]
     },
     "execution_count": 146,
     "metadata": {},
     "output_type": "execute_result"
    }
   ],
   "source": [
    "c.mul()"
   ]
  },
  {
   "cell_type": "code",
   "execution_count": 147,
   "id": "f594b86e",
   "metadata": {},
   "outputs": [
    {
     "data": {
      "text/plain": [
       "0.5"
      ]
     },
     "execution_count": 147,
     "metadata": {},
     "output_type": "execute_result"
    }
   ],
   "source": [
    "c.div()"
   ]
  },
  {
   "cell_type": "markdown",
   "id": "47d170f3",
   "metadata": {},
   "source": [
    "# 리스트 삽입 / 삭제 구현"
   ]
  },
  {
   "cell_type": "code",
   "execution_count": 148,
   "id": "f517875d",
   "metadata": {},
   "outputs": [
    {
     "name": "stdout",
     "output_type": "stream",
     "text": [
      "['동1', '동2', '동3', '동4', '동5', '동6']\n"
     ]
    }
   ],
   "source": [
    "bts = []\n",
    "\n",
    "# 데이터 끝에 삽입\n",
    "def add_data(name):\n",
    "    bts.append(name)\n",
    "\n",
    "add_data(\"동1\")\n",
    "add_data(\"동2\")\n",
    "add_data(\"동3\")\n",
    "add_data(\"동4\")\n",
    "add_data(\"동5\")\n",
    "add_data(\"동6\")\n",
    "\n",
    "print(bts)"
   ]
  },
  {
   "cell_type": "code",
   "execution_count": 149,
   "id": "b33dedf9",
   "metadata": {},
   "outputs": [],
   "source": [
    "# 데이터 중간에 삽입하기\n",
    "def insert_data(pos,name):\n",
    "    bts.append(None)\n",
    "    for i in range(len(bts)-1,pos, -1):\n",
    "        bts[i] = bts[i-1]\n",
    "        bts[i-1] = None\n",
    "        \n",
    "    bts[pos] = name"
   ]
  },
  {
   "cell_type": "code",
   "execution_count": 150,
   "id": "f3a41f0f",
   "metadata": {},
   "outputs": [
    {
     "name": "stdout",
     "output_type": "stream",
     "text": [
      "['동1', '동2', '하이', '동3', '동4', '동5', '동6']\n"
     ]
    }
   ],
   "source": [
    "insert_data(2, \"하이\")\n",
    "print(bts)"
   ]
  },
  {
   "cell_type": "code",
   "execution_count": 151,
   "id": "1e048d75",
   "metadata": {},
   "outputs": [],
   "source": [
    "# 데이터 삽입 함수 통합\n",
    "\n",
    "def insert_data(pos,name):\n",
    "    \n",
    "    if pos < 0 or pos > len(bts)-1:\n",
    "        print(\"out of length\")\n",
    "        return\n",
    "    \n",
    "    bts.append(None)\n",
    "    Blen = len(bts)\n",
    "    \n",
    "    for i in range(len(bts)-1,pos, -1):\n",
    "        bts[i] = bts[i-1]\n",
    "        bts[i-1] = None\n",
    "        \n",
    "    bts[pos] = name"
   ]
  },
  {
   "cell_type": "code",
   "execution_count": 152,
   "id": "58bfe111",
   "metadata": {},
   "outputs": [
    {
     "name": "stdout",
     "output_type": "stream",
     "text": [
      "out of length\n",
      "['동1', '동2', '하이', '동3', '동4', '동5', '동6']\n"
     ]
    }
   ],
   "source": [
    "# 범위를 나갔기에 out of length\n",
    "insert_data(8, \"바이\")\n",
    "print(bts)"
   ]
  },
  {
   "cell_type": "code",
   "execution_count": 153,
   "id": "25f471df",
   "metadata": {},
   "outputs": [
    {
     "name": "stdout",
     "output_type": "stream",
     "text": [
      "out of length\n",
      "['동1', '동2', '하이', '동3', '동4', '동5', '동6']\n"
     ]
    }
   ],
   "source": [
    "# 가장 끝쪽에 삽입\n",
    "insert_data(7, \"바이\")\n",
    "print(bts)"
   ]
  },
  {
   "cell_type": "code",
   "execution_count": 154,
   "id": "66e042a6",
   "metadata": {},
   "outputs": [
    {
     "name": "stdout",
     "output_type": "stream",
     "text": [
      "['동1', '동2', '하이', '동3', '동4', '중간', '동5', '동6']\n"
     ]
    }
   ],
   "source": [
    "# 중간에 삽입\n",
    "insert_data(5, \"중간\")\n",
    "print(bts)"
   ]
  },
  {
   "cell_type": "code",
   "execution_count": 155,
   "id": "75581f1e",
   "metadata": {},
   "outputs": [],
   "source": [
    "# 데이터 삭제 함수\n",
    "\n",
    "def delete_data(pos):\n",
    "    \n",
    "    if pos < 0 or pos > len(bts)-1:\n",
    "        print(\"out of length\")\n",
    "        return\n",
    "    \n",
    "    Blen = len(bts)\n",
    "    bts[pos] = None\n",
    "    \n",
    "    \n",
    "    for i in range(pos+1,Blen):\n",
    "        bts[i-1] = bts[i]\n",
    "        bts[i] = None\n",
    "        \n",
    "    del(bts[Blen-1])"
   ]
  },
  {
   "cell_type": "code",
   "execution_count": 156,
   "id": "19ec6186",
   "metadata": {},
   "outputs": [
    {
     "name": "stdout",
     "output_type": "stream",
     "text": [
      "['동1', '하이', '동3', '동4', '중간', '동5', '동6']\n",
      "out of length\n",
      "['동1', '하이', '동3', '동4', '중간', '동5', '동6']\n"
     ]
    }
   ],
   "source": [
    "delete_data(1)\n",
    "print(bts)\n",
    "delete_data(7)\n",
    "print(bts)"
   ]
  },
  {
   "cell_type": "code",
   "execution_count": 157,
   "id": "34301e7e",
   "metadata": {},
   "outputs": [
    {
     "name": "stdout",
     "output_type": "stream",
     "text": [
      "선택하세요(1: 추가, 2: 삽입, 3: 삭제, 4: 종료)4\n",
      "[]\n"
     ]
    }
   ],
   "source": [
    "bts = []\n",
    "select = 0\n",
    "if __name__ == \"__main__\":\n",
    "    \n",
    "    while(select != 4):\n",
    "        \n",
    "        select = int(input(\"선택하세요(1: 추가, 2: 삽입, 3: 삭제, 4: 종료)\"))\n",
    "        \n",
    "        if select == 1 :\n",
    "            data = input(\"추가할 데이터 -->\")\n",
    "            add_data(data)\n",
    "            print(bts)\n",
    "        if select == 2 :\n",
    "            pos = int(input(\"삽입할 위치 -->\"))\n",
    "            data = input(\"추가할 데이터 -->\")\n",
    "            insert_data(pos,data)\n",
    "            print(bts)\n",
    "        if select == 3 :\n",
    "            pos = int(input(\"삭제할 위치 -->\"))\n",
    "            delete_data(pos)\n",
    "            print(bts)\n",
    "        if select == 4 :\n",
    "            print(bts)\n",
    "            break\n",
    "        else :\n",
    "            print(\"1~4 중 하나를 입력해주세요\")\n",
    "            continue"
   ]
  },
  {
   "cell_type": "code",
   "execution_count": 158,
   "id": "fcab80f5",
   "metadata": {},
   "outputs": [
    {
     "name": "stdout",
     "output_type": "stream",
     "text": [
      "선모 재서 한나 태권 "
     ]
    }
   ],
   "source": [
    "class Node():\n",
    "    def __init__(self):\n",
    "        self.data = None\n",
    "        self.link = None\n",
    "    \n",
    "node1 = Node()\n",
    "node1.data = '선모'\n",
    "\n",
    "node2 = Node()\n",
    "node2.data = '재서'\n",
    "node1.link = node2\n",
    "\n",
    "node3 = Node()\n",
    "node3.data = '한나'\n",
    "node2.link = node3\n",
    "\n",
    "node4 = Node()\n",
    "node4.data = '태권'\n",
    "node3.link = node4\n",
    "\n",
    "\n",
    "print(node1.data, end =' ')\n",
    "print(node1.link.data, end =' ')\n",
    "print(node1.link.link.data, end =' ')\n",
    "print(node1.link.link.link.data, end =' ')"
   ]
  },
  {
   "cell_type": "code",
   "execution_count": 159,
   "id": "cfeb08be",
   "metadata": {},
   "outputs": [
    {
     "name": "stdout",
     "output_type": "stream",
     "text": [
      "박1 박2 박3 박4 "
     ]
    }
   ],
   "source": [
    "dataarr = ['박1','박2','박3','박4','박5']\n",
    "\n",
    "node = Node()\n",
    "node.data = dataarr[0]\n",
    "head = node\n",
    "\n",
    "for data in dataarr[1:]:\n",
    "    pre = node\n",
    "    node = Node()\n",
    "    node.data = data\n",
    "    pre.link = node\n",
    "    \n",
    "print(head.data, end =' ')\n",
    "print(head.link.data, end =' ')\n",
    "print(head.link.link.data, end =' ')\n",
    "print(head.link.link.link.data, end =' ')"
   ]
  },
  {
   "cell_type": "code",
   "execution_count": 160,
   "id": "a3ed3e2a",
   "metadata": {},
   "outputs": [
    {
     "name": "stdout",
     "output_type": "stream",
     "text": [
      "청하 박1 박2 박3 박4 박5 "
     ]
    }
   ],
   "source": [
    "# 헤드 노드 추가\n",
    "node = Node()\n",
    "node.link = head\n",
    "node.data = \"청하\"\n",
    "head = node\n",
    "\n",
    "print(head.data, end =' ')\n",
    "print(head.link.data, end =' ')\n",
    "print(head.link.link.data, end =' ')\n",
    "print(head.link.link.link.data, end =' ')\n",
    "print(head.link.link.link.link.data, end =' ')\n",
    "print(head.link.link.link.link.link.data, end =' ')"
   ]
  },
  {
   "cell_type": "code",
   "execution_count": 161,
   "id": "82b99e59",
   "metadata": {},
   "outputs": [
    {
     "name": "stdout",
     "output_type": "stream",
     "text": [
      "청하 박1 박2 가이 박3 박4 "
     ]
    }
   ],
   "source": [
    "# 특정 노드 사이에 값 추가하기\n",
    "pre = head\n",
    "current = head.link\n",
    "\n",
    "while current != None:\n",
    "    if current.data == \"박3\":\n",
    "        node = Node()\n",
    "        node.link = current\n",
    "        node.data = \"가이\"\n",
    "        pre.link = node\n",
    "        break\n",
    "\n",
    "    pre = current\n",
    "    current = current.link\n",
    "\n",
    "print(head.data, end =' ')\n",
    "print(head.link.data, end =' ')\n",
    "print(head.link.link.data, end =' ')\n",
    "print(head.link.link.link.data, end =' ')\n",
    "print(head.link.link.link.link.data, end =' ')\n",
    "print(head.link.link.link.link.link.data, end =' ')"
   ]
  },
  {
   "cell_type": "code",
   "execution_count": 162,
   "id": "bb179bb0",
   "metadata": {},
   "outputs": [
    {
     "name": "stdout",
     "output_type": "stream",
     "text": [
      "청하 박1 박2 가이 박3 박4 박5 바루스 "
     ]
    }
   ],
   "source": [
    "pre = head\n",
    "current = head.link\n",
    "\n",
    "while True:\n",
    "    if current == None:\n",
    "        node = Node()\n",
    "        node.link = current\n",
    "        node.data = \"바루스\"\n",
    "        pre.link = node\n",
    "        break\n",
    "\n",
    "    pre = current\n",
    "    current = current.link\n",
    "\n",
    "print(head.data, end =' ')\n",
    "print(head.link.data, end =' ')\n",
    "print(head.link.link.data, end =' ')\n",
    "print(head.link.link.link.data, end =' ')\n",
    "print(head.link.link.link.link.data, end =' ')\n",
    "print(head.link.link.link.link.link.data, end =' ')\n",
    "print(head.link.link.link.link.link.link.data, end =' ')\n",
    "print(head.link.link.link.link.link.link.link.data, end =' ')"
   ]
  },
  {
   "cell_type": "code",
   "execution_count": 163,
   "id": "b025a0cd",
   "metadata": {},
   "outputs": [
    {
     "name": "stdout",
     "output_type": "stream",
     "text": [
      "박1 박2 가이 박3 박4 박5 바루스 "
     ]
    }
   ],
   "source": [
    "# 헤드 삭제\n",
    "current = head\n",
    "head = head.link\n",
    "del(current)\n",
    "\n",
    "print(head.data, end =' ')\n",
    "print(head.link.data, end =' ')\n",
    "print(head.link.link.data, end =' ')\n",
    "print(head.link.link.link.data, end =' ')\n",
    "print(head.link.link.link.link.data, end =' ')\n",
    "print(head.link.link.link.link.link.data, end =' ')\n",
    "print(head.link.link.link.link.link.link.data, end =' ')"
   ]
  },
  {
   "cell_type": "code",
   "execution_count": 164,
   "id": "1b988d29",
   "metadata": {},
   "outputs": [
    {
     "name": "stdout",
     "output_type": "stream",
     "text": [
      "박1 박2 박3 박4 박5 바루스 "
     ]
    }
   ],
   "source": [
    "# 특정 노드 삭제\n",
    "current = head\n",
    "while current.link != None:\n",
    "    pre = current\n",
    "    current = current.link\n",
    "    if current.data == \"\" :\n",
    "        pre.link = current.link\n",
    "        del(current)\n",
    "        break\n",
    "        \n",
    "print(head.data, end =' ')\n",
    "print(head.link.data, end =' ')\n",
    "print(head.link.link.data, end =' ')\n",
    "print(head.link.link.link.data, end =' ')\n",
    "print(head.link.link.link.link.data, end =' ')\n",
    "print(head.link.link.link.link.link.data, end =' ')"
   ]
  },
  {
   "cell_type": "markdown",
   "id": "b2617072",
   "metadata": {},
   "source": [
    "## 원형 연결 리스트"
   ]
  },
  {
   "cell_type": "code",
   "execution_count": 121,
   "id": "7f2c715f",
   "metadata": {},
   "outputs": [],
   "source": [
    "class Node():\n",
    "    def __init__(self):\n",
    "        self.data = None\n",
    "        self.link = None\n",
    "    \n",
    "node1 = Node()\n",
    "node1.data = '다현'"
   ]
  },
  {
   "cell_type": "code",
   "execution_count": 122,
   "id": "7c914d23",
   "metadata": {},
   "outputs": [],
   "source": [
    "node2 = Node()\n",
    "node2.data = '쯔위'\n",
    "node1.link = node2\n",
    "node2.link = node1\n",
    "\n",
    "node3 = Node()\n",
    "node3.data = '사나'\n",
    "node2.link = node3\n",
    "node3.link = node1\n",
    "\n",
    "node4 = Node()\n",
    "node4.data = '지효'\n",
    "node3.link = node4\n",
    "node4.link = node1\n",
    "\n",
    "node5 = Node()\n",
    "node5.data = '모모'\n",
    "node4.link = node5\n",
    "node5.link = node1"
   ]
  },
  {
   "cell_type": "code",
   "execution_count": 123,
   "id": "49e830e1",
   "metadata": {},
   "outputs": [
    {
     "name": "stdout",
     "output_type": "stream",
     "text": [
      "다현 쯔위 사나 지효 모모 "
     ]
    }
   ],
   "source": [
    "current = node1\n",
    "print(current.data, end = ' ')\n",
    "while current.link != node1 :\n",
    "    current = current.link\n",
    "    print(current.data, end = ' ')"
   ]
  },
  {
   "cell_type": "code",
   "execution_count": 124,
   "id": "9a0f75dc",
   "metadata": {},
   "outputs": [],
   "source": [
    "# 중간 데이터 삽입\n",
    "newNode = Node()\n",
    "newNode.data = '태권'\n",
    "newNode.link = node2.link\n",
    "node2.link = newNode"
   ]
  },
  {
   "cell_type": "code",
   "execution_count": 125,
   "id": "53cf6ed3",
   "metadata": {},
   "outputs": [],
   "source": [
    "# 중간 데이터 삭제 ( node 3 삭제 )\n",
    "node2.link = node3.link\n",
    "del (node3)"
   ]
  },
  {
   "cell_type": "code",
   "execution_count": 132,
   "id": "072c07d9",
   "metadata": {},
   "outputs": [],
   "source": [
    "class Node():\n",
    "    def __init__(self):\n",
    "        self.data = None\n",
    "        self.link = None\n",
    "    \n",
    "node1 = Node()\n",
    "node1.data = '다현'"
   ]
  },
  {
   "cell_type": "code",
   "execution_count": 133,
   "id": "f0b7102b",
   "metadata": {},
   "outputs": [],
   "source": [
    "def printNodes(start):\n",
    "    current = start\n",
    "    if current.link == None:\n",
    "        return\n",
    "    print(current.data, end = ' ')\n",
    "    while current.link != start :\n",
    "        current = current.link\n",
    "        print(current.data, end = ' ')"
   ]
  },
  {
   "cell_type": "code",
   "execution_count": 134,
   "id": "f857dc26",
   "metadata": {
    "scrolled": true
   },
   "outputs": [
    {
     "name": "stdout",
     "output_type": "stream",
     "text": [
      "태권 선모 정우 평화 승민 "
     ]
    }
   ],
   "source": [
    "memory = []\n",
    "head, current, pre = None, None, None\n",
    "dataArray = ['태권','선모','정우','평화','승민']\n",
    "\n",
    "if __name__ == \"__main__\":\n",
    "    #첫번째 노드\n",
    "    node = Node()\n",
    "    node.data = dataArray[0]\n",
    "    head = node\n",
    "    node.link = head\n",
    "    memory.append(node)\n",
    "    \n",
    "    # 이후 노드\n",
    "    for data in dataArray[1:]:\n",
    "        pre = node\n",
    "        node = Node()\n",
    "        node.data = data\n",
    "        pre.link = node\n",
    "        node.link = head\n",
    "        memory.append(node)\n",
    "        \n",
    "    printNodes(head)"
   ]
  },
  {
   "cell_type": "code",
   "execution_count": 135,
   "id": "f83bc1e3",
   "metadata": {},
   "outputs": [
    {
     "name": "stdout",
     "output_type": "stream",
     "text": [
      "태권 선모 병윤 정우 평화 승민 \n",
      "태권 선모 병윤 정우 평화 승민 문월 \n",
      "쵸단 태권 선모 병윤 정우 평화 승민 문월 \n"
     ]
    }
   ],
   "source": [
    "if __name__ == '__main__':\n",
    "    \n",
    "    def insertNode(findData, insertData):\n",
    "        global memory, head, current, pre\n",
    "\n",
    "        # 헤드 노드 삽입\n",
    "        if head.data == findData:\n",
    "            node = Node()\n",
    "            node.data = insertData\n",
    "            node.link = head\n",
    "            last = head\n",
    "            while last.link != head:\n",
    "                last = last.link\n",
    "            last.link = node\n",
    "            head = node\n",
    "            return\n",
    "\n",
    "        # 중간 노드 삽입\n",
    "        current = head\n",
    "        while current.link != head:\n",
    "            pre = current\n",
    "            current = current.link\n",
    "            if current.data == findData :\n",
    "                node = Node()\n",
    "                node.data = insertData\n",
    "                node.link = current\n",
    "                pre.link = node\n",
    "                return\n",
    "\n",
    "        # 마지막 노드 삽입\n",
    "        node = Node()\n",
    "        node.data = insertData\n",
    "        current.link = node\n",
    "        node.link = head\n",
    "    \n",
    "    insertNode('정우','병윤')\n",
    "    printNodes(head)\n",
    "    print()\n",
    "    \n",
    "    insertNode('아냐','문월')\n",
    "    printNodes(head)\n",
    "    print()\n",
    "    \n",
    "    insertNode('태권','쵸단')\n",
    "    printNodes(head)\n",
    "    print()"
   ]
  },
  {
   "cell_type": "code",
   "execution_count": 136,
   "id": "d7ec4191",
   "metadata": {},
   "outputs": [
    {
     "name": "stdout",
     "output_type": "stream",
     "text": [
      "쵸단 태권 선모 병윤 정우 평화 승민 문월 "
     ]
    }
   ],
   "source": [
    "printNodes(head)"
   ]
  },
  {
   "cell_type": "code",
   "execution_count": 137,
   "id": "add8a0f2",
   "metadata": {},
   "outputs": [],
   "source": [
    "# 노드 삭제\n",
    "def deleteNode(deleteData):\n",
    "    global memory, head, current, pre\n",
    "\n",
    "    # 헤드 노드 삭제\n",
    "    if head.data == deleteData:\n",
    "        current = head\n",
    "        head = head.link\n",
    "        last = head\n",
    "        while last.link != current :\n",
    "            last = last.link\n",
    "        last.link = head\n",
    "        del(current)\n",
    "        return\n",
    "\n",
    "    # 헤드 외 노드 삭제\n",
    "    current = head\n",
    "    while current.link != head:\n",
    "        pre = current\n",
    "        current = current.link\n",
    "        if current.data == deleteData :\n",
    "            pre.link = current.link\n",
    "            del(current)\n",
    "            return"
   ]
  },
  {
   "cell_type": "code",
   "execution_count": 138,
   "id": "9e7f3644",
   "metadata": {},
   "outputs": [
    {
     "name": "stdout",
     "output_type": "stream",
     "text": [
      "쵸단 태권 선모 병윤 정우 평화 승민 문월 \n",
      "쵸단 태권 병윤 정우 평화 승민 문월 \n",
      "태권 병윤 정우 평화 승민 문월 \n",
      "태권 병윤 평화 승민 문월 "
     ]
    }
   ],
   "source": [
    "printNodes(head)\n",
    "print()\n",
    "\n",
    "deleteNode('선모')\n",
    "printNodes(head)\n",
    "print()\n",
    "\n",
    "deleteNode('쵸단')\n",
    "printNodes(head)\n",
    "print()\n",
    "\n",
    "deleteNode('정우')\n",
    "printNodes(head)"
   ]
  },
  {
   "cell_type": "markdown",
   "id": "73de57dd",
   "metadata": {},
   "source": [
    "# 스택"
   ]
  },
  {
   "cell_type": "code",
   "execution_count": 10,
   "id": "49761c57",
   "metadata": {
    "scrolled": true
   },
   "outputs": [
    {
     "name": "stdout",
     "output_type": "stream",
     "text": [
      "input stack's fullish size : 5\n"
     ]
    }
   ],
   "source": [
    "# 스택 찼는지\n",
    "def isStackFull():\n",
    "    global Size, stack, top\n",
    "    if top >= Size-1:\n",
    "        return True\n",
    "    else :\n",
    "        return False\n",
    "    \n",
    "# 스택 비었는지\n",
    "def isStackEmpty():\n",
    "    global Size, stack, top\n",
    "    if top == -1:\n",
    "        return True\n",
    "    else:\n",
    "        return False\n",
    "    \n",
    "# 값 넣기\n",
    "def push(data):\n",
    "    global Size, stack, top\n",
    "    if isStackFull():\n",
    "        print(\"u'r stack is full\")\n",
    "        return\n",
    "    top += 1\n",
    "    stack[top] = data\n",
    "    \n",
    "# 값 빼기\n",
    "def pop():\n",
    "    global Size,stack, top\n",
    "    if isStackEmpty():\n",
    "        print(\"u'r stack is empty\")\n",
    "        return None\n",
    "    data = stack[top]\n",
    "    stack[top] = None\n",
    "    top -= 1\n",
    "    return data\n",
    "\n",
    "# top 위치 확인\n",
    "def peek():\n",
    "    global Size,stack, top\n",
    "    if isStackEmpty():\n",
    "        print(\"u'r stack is empty\")\n",
    "        return None\n",
    "    return stack[top]\n",
    "\n",
    "Size = int(input(\"input stack's fullish size : \"))\n",
    "stack = [None for _ in range(Size)]\n",
    "top = -1"
   ]
  },
  {
   "cell_type": "code",
   "execution_count": 11,
   "id": "69b486b2",
   "metadata": {},
   "outputs": [],
   "source": [
    "import time"
   ]
  },
  {
   "cell_type": "code",
   "execution_count": 13,
   "id": "3ecc9d99",
   "metadata": {},
   "outputs": [
    {
     "name": "stdout",
     "output_type": "stream",
     "text": [
      "choose : insert (i) / pop (p) / peek (k) / exit (e) : p\n",
      "your data :  seho\n",
      "stack :  [None, None, None, None, None]\n",
      "\n",
      " --------------------------------------- \n",
      "\n",
      "choose : insert (i) / pop (p) / peek (k) / exit (e) : k\n",
      "u'r stack is empty\n",
      "your data :  None\n",
      "stack :  [None, None, None, None, None]\n",
      "\n",
      " --------------------------------------- \n",
      "\n",
      "choose : insert (i) / pop (p) / peek (k) / exit (e) : i\n",
      "input your data : sehoon\n",
      "stack :  ['sehoon', None, None, None, None]\n",
      "\n",
      " --------------------------------------- \n",
      "\n",
      "choose : insert (i) / pop (p) / peek (k) / exit (e) : i\n",
      "input your data : emma\n",
      "stack :  ['sehoon', 'emma', None, None, None]\n",
      "\n",
      " --------------------------------------- \n",
      "\n",
      "choose : insert (i) / pop (p) / peek (k) / exit (e) : p\n",
      "your data :  emma\n",
      "stack :  ['sehoon', None, None, None, None]\n",
      "\n",
      " --------------------------------------- \n",
      "\n",
      "choose : insert (i) / pop (p) / peek (k) / exit (e) : e\n",
      "exit...\n",
      "done!\n"
     ]
    }
   ],
   "source": [
    "if __name__ == '__main__':\n",
    "    select = input(\"choose : insert (i) / pop (p) / peek (k) / exit (e) : \")\n",
    "    select.lower()\n",
    "    \n",
    "    while select != 'e' :\n",
    "        if select == 'i':\n",
    "            data = input('input your data : ')\n",
    "            push(data)\n",
    "            print('stack : ',stack)\n",
    "        elif select == 'p' :\n",
    "            data = pop()\n",
    "            print('your data : ', data)\n",
    "            print('stack : ',stack)\n",
    "        elif select == 'k' :\n",
    "            data = peek()\n",
    "            print('your data : ', data)\n",
    "            print('stack : ',stack)\n",
    "        else : \n",
    "            print('wrong input')\n",
    "        print('\\n --------------------------------------- \\n')\n",
    "            \n",
    "        select = input(\"choose : insert (i) / pop (p) / peek (k) / exit (e) : \")\n",
    "        select.lower()\n",
    "        \n",
    "    print('exit...')\n",
    "    time.sleep(2)\n",
    "    print('done!')"
   ]
  },
  {
   "cell_type": "code",
   "execution_count": null,
   "id": "023cb2f1",
   "metadata": {},
   "outputs": [],
   "source": []
  }
 ],
 "metadata": {
  "kernelspec": {
   "display_name": "Python 3 (ipykernel)",
   "language": "python",
   "name": "python3"
  },
  "language_info": {
   "codemirror_mode": {
    "name": "ipython",
    "version": 3
   },
   "file_extension": ".py",
   "mimetype": "text/x-python",
   "name": "python",
   "nbconvert_exporter": "python",
   "pygments_lexer": "ipython3",
   "version": "3.9.12"
  }
 },
 "nbformat": 4,
 "nbformat_minor": 5
}
