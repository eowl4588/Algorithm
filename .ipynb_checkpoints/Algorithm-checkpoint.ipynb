{
 "cells": [
  {
   "cell_type": "markdown",
   "id": "88156e79",
   "metadata": {},
   "source": [
    "# 클래스"
   ]
  },
  {
   "cell_type": "code",
   "execution_count": 50,
   "id": "e17a655d",
   "metadata": {},
   "outputs": [],
   "source": [
    "class CnBlue:\n",
    "    def sing(self):\n",
    "        return \"외톨이새끼\"\n",
    "    def dance(self):\n",
    "        return \"두둠치빠람빠라\"\n",
    "    def look(self):\n",
    "        return \"난 아뻐~~\""
   ]
  },
  {
   "cell_type": "code",
   "execution_count": 51,
   "id": "0d0f9184",
   "metadata": {},
   "outputs": [],
   "source": [
    "# CnBlue 클래스의 객체 Sm생성\n",
    "Sm = CnBlue()"
   ]
  },
  {
   "cell_type": "code",
   "execution_count": 52,
   "id": "05f0a378",
   "metadata": {},
   "outputs": [
    {
     "data": {
      "text/plain": [
       "'외톨이새끼'"
      ]
     },
     "execution_count": 52,
     "metadata": {},
     "output_type": "execute_result"
    }
   ],
   "source": [
    "# CnBlue의 매소드들 실행 가능\n",
    "Sm.sing()"
   ]
  },
  {
   "cell_type": "code",
   "execution_count": 53,
   "id": "be327e01",
   "metadata": {},
   "outputs": [],
   "source": [
    "# CnBlue를 상속한 BlackPink\n",
    "class BlackPink(CnBlue):\n",
    "    def top(self):\n",
    "        return \"bp in your area\""
   ]
  },
  {
   "cell_type": "code",
   "execution_count": 54,
   "id": "9205bc22",
   "metadata": {},
   "outputs": [
    {
     "data": {
      "text/plain": [
       "'난 아뻐~~'"
      ]
     },
     "execution_count": 54,
     "metadata": {},
     "output_type": "execute_result"
    }
   ],
   "source": [
    "Ss = BlackPink()\n",
    "\n",
    "Ss.look()"
   ]
  },
  {
   "cell_type": "code",
   "execution_count": 55,
   "id": "d1e5da49",
   "metadata": {},
   "outputs": [],
   "source": [
    "# __init__ : 처음 객체 생성시 값을 받아오는 매서드\n",
    "# __init__ 같이 특수 매서드들 존재\n",
    "class cal :\n",
    "    def __init__(self, arg1, arg2):\n",
    "        self.fir = arg1\n",
    "        self.sec = arg2\n",
    "    \n",
    "    def add(self):\n",
    "        result = self.fir + self.sec\n",
    "        return result\n",
    "    \n",
    "    def suv(self):\n",
    "        result = self.fir - self.sec\n",
    "        return result\n",
    "    def mul(self):\n",
    "        result = self.fir * self.sec\n",
    "        return result\n",
    "    def div(self):\n",
    "        result = self.fir / self.sec\n",
    "        return result"
   ]
  },
  {
   "cell_type": "code",
   "execution_count": 56,
   "id": "a91e64e4",
   "metadata": {},
   "outputs": [],
   "source": [
    "c = cal(1,2)"
   ]
  },
  {
   "cell_type": "code",
   "execution_count": 57,
   "id": "e2751b38",
   "metadata": {},
   "outputs": [
    {
     "data": {
      "text/plain": [
       "3"
      ]
     },
     "execution_count": 57,
     "metadata": {},
     "output_type": "execute_result"
    }
   ],
   "source": [
    "c.add()"
   ]
  },
  {
   "cell_type": "code",
   "execution_count": 58,
   "id": "2529e2f3",
   "metadata": {},
   "outputs": [
    {
     "data": {
      "text/plain": [
       "-1"
      ]
     },
     "execution_count": 58,
     "metadata": {},
     "output_type": "execute_result"
    }
   ],
   "source": [
    "c.suv()"
   ]
  },
  {
   "cell_type": "code",
   "execution_count": 59,
   "id": "65ace8c2",
   "metadata": {},
   "outputs": [
    {
     "data": {
      "text/plain": [
       "2"
      ]
     },
     "execution_count": 59,
     "metadata": {},
     "output_type": "execute_result"
    }
   ],
   "source": [
    "c.mul()"
   ]
  },
  {
   "cell_type": "code",
   "execution_count": 60,
   "id": "f594b86e",
   "metadata": {},
   "outputs": [
    {
     "data": {
      "text/plain": [
       "0.5"
      ]
     },
     "execution_count": 60,
     "metadata": {},
     "output_type": "execute_result"
    }
   ],
   "source": [
    "c.div()"
   ]
  },
  {
   "cell_type": "markdown",
   "id": "47d170f3",
   "metadata": {},
   "source": [
    "# 리스트 삽입 / 삭제 구현"
   ]
  },
  {
   "cell_type": "code",
   "execution_count": 76,
   "id": "f517875d",
   "metadata": {},
   "outputs": [
    {
     "name": "stdout",
     "output_type": "stream",
     "text": [
      "['동1', '동2', '동3', '동4', '동5', '동6']\n"
     ]
    }
   ],
   "source": [
    "bts = []\n",
    "\n",
    "# 데이터 끝에 삽입\n",
    "def add_data(name):\n",
    "    bts.append(name)\n",
    "\n",
    "add_data(\"동1\")\n",
    "add_data(\"동2\")\n",
    "add_data(\"동3\")\n",
    "add_data(\"동4\")\n",
    "add_data(\"동5\")\n",
    "add_data(\"동6\")\n",
    "\n",
    "print(bts)"
   ]
  },
  {
   "cell_type": "code",
   "execution_count": 77,
   "id": "b33dedf9",
   "metadata": {},
   "outputs": [],
   "source": [
    "# 데이터 중간에 삽입하기\n",
    "def insert_data(pos,name):\n",
    "    bts.append(None)\n",
    "    for i in range(len(bts)-1,pos, -1):\n",
    "        bts[i] = bts[i-1]\n",
    "        bts[i-1] = None\n",
    "        \n",
    "    bts[pos] = name"
   ]
  },
  {
   "cell_type": "code",
   "execution_count": 78,
   "id": "f3a41f0f",
   "metadata": {},
   "outputs": [
    {
     "name": "stdout",
     "output_type": "stream",
     "text": [
      "['동1', '동2', '하이', '동3', '동4', '동5', '동6']\n"
     ]
    }
   ],
   "source": [
    "insert_data(2, \"하이\")\n",
    "print(bts)"
   ]
  },
  {
   "cell_type": "code",
   "execution_count": 91,
   "id": "1e048d75",
   "metadata": {},
   "outputs": [],
   "source": [
    "# 데이터 삽입 함수 통합\n",
    "\n",
    "def insert_data(pos,name):\n",
    "    \n",
    "    if pos < 0 or pos > len(bts)-1:\n",
    "        print(\"out of length\")\n",
    "        return\n",
    "    \n",
    "    bts.append(None)\n",
    "    Blen = len(bts)\n",
    "    \n",
    "    for i in range(len(bts)-1,pos, -1):\n",
    "        bts[i] = bts[i-1]\n",
    "        bts[i-1] = None\n",
    "        \n",
    "    bts[pos] = name"
   ]
  },
  {
   "cell_type": "code",
   "execution_count": 92,
   "id": "58bfe111",
   "metadata": {},
   "outputs": [
    {
     "name": "stdout",
     "output_type": "stream",
     "text": [
      "out of length\n",
      "['1', '2', '3']\n"
     ]
    }
   ],
   "source": [
    "# 범위를 나갔기에 out of length\n",
    "insert_data(8, \"바이\")\n",
    "print(bts)"
   ]
  },
  {
   "cell_type": "code",
   "execution_count": 93,
   "id": "25f471df",
   "metadata": {},
   "outputs": [
    {
     "name": "stdout",
     "output_type": "stream",
     "text": [
      "out of length\n",
      "['1', '2', '3']\n"
     ]
    }
   ],
   "source": [
    "# 가장 끝쪽에 삽입\n",
    "insert_data(7, \"바이\")\n",
    "print(bts)"
   ]
  },
  {
   "cell_type": "code",
   "execution_count": 94,
   "id": "66e042a6",
   "metadata": {},
   "outputs": [
    {
     "name": "stdout",
     "output_type": "stream",
     "text": [
      "out of length\n",
      "['1', '2', '3']\n"
     ]
    }
   ],
   "source": [
    "# 중간에 삽입\n",
    "insert_data(5, \"중간\")\n",
    "print(bts)"
   ]
  },
  {
   "cell_type": "code",
   "execution_count": 95,
   "id": "75581f1e",
   "metadata": {},
   "outputs": [],
   "source": [
    "# 데이터 삭제 함수\n",
    "\n",
    "def delete_data(pos):\n",
    "    \n",
    "    if pos < 0 or pos > len(bts)-1:\n",
    "        print(\"out of length\")\n",
    "        return\n",
    "    \n",
    "    Blen = len(bts)\n",
    "    bts[pos] = None\n",
    "    \n",
    "    \n",
    "    for i in range(pos+1,Blen):\n",
    "        bts[i-1] = bts[i]\n",
    "        bts[i] = None\n",
    "        \n",
    "    del(bts[Blen-1])"
   ]
  },
  {
   "cell_type": "code",
   "execution_count": 97,
   "id": "19ec6186",
   "metadata": {},
   "outputs": [
    {
     "name": "stdout",
     "output_type": "stream",
     "text": [
      "['1']\n",
      "out of length\n",
      "['1']\n"
     ]
    }
   ],
   "source": [
    "delete_data(1)\n",
    "print(bts)\n",
    "delete_data(7)\n",
    "print(bts)"
   ]
  },
  {
   "cell_type": "code",
   "execution_count": 98,
   "id": "34301e7e",
   "metadata": {},
   "outputs": [
    {
     "name": "stdout",
     "output_type": "stream",
     "text": [
      "선택하세요(1: 추가, 2: 삽입, 3: 삭제, 4: 종료)1\n",
      "추가할 데이터 -->1\n",
      "['1']\n",
      "1~4 중 하나를 입력해주세요\n",
      "선택하세요(1: 추가, 2: 삽입, 3: 삭제, 4: 종료)1\n",
      "추가할 데이터 -->2\n",
      "['1', '2']\n",
      "1~4 중 하나를 입력해주세요\n",
      "선택하세요(1: 추가, 2: 삽입, 3: 삭제, 4: 종료)1\n",
      "추가할 데이터 -->3\n",
      "['1', '2', '3']\n",
      "1~4 중 하나를 입력해주세요\n",
      "선택하세요(1: 추가, 2: 삽입, 3: 삭제, 4: 종료)3\n",
      "삭제할 위치 -->4\n",
      "out of length\n",
      "['1', '2', '3']\n",
      "1~4 중 하나를 입력해주세요\n",
      "선택하세요(1: 추가, 2: 삽입, 3: 삭제, 4: 종료)3\n",
      "삭제할 위치 -->2\n",
      "['1', '2']\n",
      "1~4 중 하나를 입력해주세요\n",
      "선택하세요(1: 추가, 2: 삽입, 3: 삭제, 4: 종료)4\n",
      "['1', '2']\n"
     ]
    }
   ],
   "source": [
    "bts = []\n",
    "select = 0\n",
    "if __name__ == \"__main__\":\n",
    "    \n",
    "    while(select != 4):\n",
    "        \n",
    "        select = int(input(\"선택하세요(1: 추가, 2: 삽입, 3: 삭제, 4: 종료)\"))\n",
    "        \n",
    "        if select == 1 :\n",
    "            data = input(\"추가할 데이터 -->\")\n",
    "            add_data(data)\n",
    "            print(bts)\n",
    "        if select == 2 :\n",
    "            pos = int(input(\"삽입할 위치 -->\"))\n",
    "            data = input(\"추가할 데이터 -->\")\n",
    "            insert_data(pos,data)\n",
    "            print(bts)\n",
    "        if select == 3 :\n",
    "            pos = int(input(\"삭제할 위치 -->\"))\n",
    "            delete_data(pos)\n",
    "            print(bts)\n",
    "        if select == 4 :\n",
    "            print(bts)\n",
    "            break\n",
    "        else :\n",
    "            print(\"1~4 중 하나를 입력해주세요\")\n",
    "            continue"
   ]
  },
  {
   "cell_type": "code",
   "execution_count": 90,
   "id": "fcab80f5",
   "metadata": {},
   "outputs": [
    {
     "data": {
      "text/plain": [
       "3"
      ]
     },
     "execution_count": 90,
     "metadata": {},
     "output_type": "execute_result"
    }
   ],
   "source": []
  },
  {
   "cell_type": "code",
   "execution_count": null,
   "id": "cfeb08be",
   "metadata": {},
   "outputs": [],
   "source": []
  }
 ],
 "metadata": {
  "kernelspec": {
   "display_name": "Python 3 (ipykernel)",
   "language": "python",
   "name": "python3"
  },
  "language_info": {
   "codemirror_mode": {
    "name": "ipython",
    "version": 3
   },
   "file_extension": ".py",
   "mimetype": "text/x-python",
   "name": "python",
   "nbconvert_exporter": "python",
   "pygments_lexer": "ipython3",
   "version": "3.9.12"
  }
 },
 "nbformat": 4,
 "nbformat_minor": 5
}
